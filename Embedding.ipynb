{
  "cells": [
    {
      "cell_type": "markdown",
      "metadata": {
        "id": "view-in-github",
        "colab_type": "text"
      },
      "source": [
        "<a href=\"https://colab.research.google.com/github/AhmedEsmail91/NLP/blob/main/Embedding.ipynb\" target=\"_parent\"><img src=\"https://colab.research.google.com/assets/colab-badge.svg\" alt=\"Open In Colab\"/></a>"
      ]
    },
    {
      "cell_type": "code",
      "execution_count": null,
      "metadata": {
        "id": "QCI1HmUbrEoT"
      },
      "outputs": [],
      "source": [
        "import tensorflow as tf"
      ]
    },
    {
      "cell_type": "code",
      "execution_count": null,
      "metadata": {
        "id": "LGn_L6gqrEoa"
      },
      "outputs": [],
      "source": [
        "import tensorflow as tf\n",
        "from tensorflow.keras.preprocessing.text import Tokenizer\n",
        "from tensorflow.keras.preprocessing.sequence import pad_sequences"
      ]
    },
    {
      "cell_type": "code",
      "execution_count": null,
      "metadata": {
        "id": "SlRiyjFrrEoc"
      },
      "outputs": [],
      "source": [
        "import pandas as pd\n",
        "import numpy as np\n",
        "dataset=pd.read_csv('Sentiment_Analysis.csv')\n",
        "dataset=dataset.iloc[:,-2:]\n",
        "sentences=dataset['text'].tolist()\n",
        "labels=dataset['sentiment'].tolist()\n",
        "trainig_size=int(0.8*len(labels))\n",
        "\n",
        "# Trainig Dataset\n",
        "training_sentences=sentences[:trainig_size]\n",
        "training_labels=labels[:trainig_size]\n",
        "# Testing Dataset\n",
        "testing_sentences=sentences[trainig_size:]\n",
        "testing_labels=labels[trainig_size:]\n",
        "\n",
        "training_labels_np=np.array(training_labels)\n",
        "testing_labels_np=np.array(testing_labels)"
      ]
    },
    {
      "cell_type": "code",
      "execution_count": null,
      "metadata": {
        "id": "_-q13X_ZrEoe",
        "outputId": "e598fdb4-d329-4c13-80e6-378876dea40d",
        "colab": {
          "base_uri": "https://localhost:8080/"
        }
      },
      "outputs": [
        {
          "output_type": "stream",
          "name": "stdout",
          "text": [
            "Example 1:\n",
            "\n",
            "Original: So there is no way for me to plug it in here in the US unless I go by a converter.\n",
            "Seq     : [26, 68, 7, 63, 173, 13, 67, 8, 218, 5, 16, 82, 16, 2, 197, 363, 4, 75, 109, 6, 1]\n",
            "Padded  : [26, 68, 7, 63, 173, 13, 67, 8, 218, 5, 16, 82, 16, 2, 197, 363, 4, 75, 109, 6, 1, '?', '?', '?', '?', '?', '?', '?', '?', '?', '?', '?', '?', '?', '?', '?', '?', '?', '?', '?', '?', '?', '?', '?', '?', '?', '?', '?', '?', '?', '?', '?', '?', '?', '?', '?', '?', '?', '?', '?', '?', '?', '?', '?', '?', '?', '?', '?', '?', '?', '?', '?', '?', '?', '?', '?', '?', '?', '?', '?', '?', '?', '?', '?', '?', '?', '?', '?', '?', '?', '?', '?', '?', '?', '?', '?', '?', '?', '?', '?']\n",
            "##################################################\n",
            "Example 2:\n",
            "\n",
            "Original: Good case Excellent value.\n",
            "Seq     : [20, 90, 76, 364]\n",
            "Padded  : [20, 90, 76, 364, '?', '?', '?', '?', '?', '?', '?', '?', '?', '?', '?', '?', '?', '?', '?', '?', '?', '?', '?', '?', '?', '?', '?', '?', '?', '?', '?', '?', '?', '?', '?', '?', '?', '?', '?', '?', '?', '?', '?', '?', '?', '?', '?', '?', '?', '?', '?', '?', '?', '?', '?', '?', '?', '?', '?', '?', '?', '?', '?', '?', '?', '?', '?', '?', '?', '?', '?', '?', '?', '?', '?', '?', '?', '?', '?', '?', '?', '?', '?', '?', '?', '?', '?', '?', '?', '?', '?', '?', '?', '?', '?', '?', '?', '?', '?', '?']\n",
            "##################################################\n",
            "Example 3:\n",
            "\n",
            "Original: Great for the jawbone.\n",
            "Seq     : [19, 13, 2, 613]\n",
            "Padded  : [19, 13, 2, 613, '?', '?', '?', '?', '?', '?', '?', '?', '?', '?', '?', '?', '?', '?', '?', '?', '?', '?', '?', '?', '?', '?', '?', '?', '?', '?', '?', '?', '?', '?', '?', '?', '?', '?', '?', '?', '?', '?', '?', '?', '?', '?', '?', '?', '?', '?', '?', '?', '?', '?', '?', '?', '?', '?', '?', '?', '?', '?', '?', '?', '?', '?', '?', '?', '?', '?', '?', '?', '?', '?', '?', '?', '?', '?', '?', '?', '?', '?', '?', '?', '?', '?', '?', '?', '?', '?', '?', '?', '?', '?', '?', '?', '?', '?', '?', '?']\n",
            "##################################################\n",
            "Example 4:\n",
            "\n",
            "Original: Tied to charger for conversations lasting more than 45 minutes.MAJOR PROBLEMS!!\n",
            "Seq     : [1, 8, 137, 13, 614, 810, 94, 70, 811, 130, 1, 198]\n",
            "Padded  : [1, 8, 137, 13, 614, 810, 94, 70, 811, 130, 1, 198, '?', '?', '?', '?', '?', '?', '?', '?', '?', '?', '?', '?', '?', '?', '?', '?', '?', '?', '?', '?', '?', '?', '?', '?', '?', '?', '?', '?', '?', '?', '?', '?', '?', '?', '?', '?', '?', '?', '?', '?', '?', '?', '?', '?', '?', '?', '?', '?', '?', '?', '?', '?', '?', '?', '?', '?', '?', '?', '?', '?', '?', '?', '?', '?', '?', '?', '?', '?', '?', '?', '?', '?', '?', '?', '?', '?', '?', '?', '?', '?', '?', '?', '?', '?', '?', '?', '?', '?']\n",
            "##################################################\n",
            "Example 5:\n",
            "\n",
            "Original: The mic is great.\n",
            "Seq     : [2, 505, 7, 19]\n",
            "Padded  : [2, 505, 7, 19, '?', '?', '?', '?', '?', '?', '?', '?', '?', '?', '?', '?', '?', '?', '?', '?', '?', '?', '?', '?', '?', '?', '?', '?', '?', '?', '?', '?', '?', '?', '?', '?', '?', '?', '?', '?', '?', '?', '?', '?', '?', '?', '?', '?', '?', '?', '?', '?', '?', '?', '?', '?', '?', '?', '?', '?', '?', '?', '?', '?', '?', '?', '?', '?', '?', '?', '?', '?', '?', '?', '?', '?', '?', '?', '?', '?', '?', '?', '?', '?', '?', '?', '?', '?', '?', '?', '?', '?', '?', '?', '?', '?', '?', '?', '?', '?']\n"
          ]
        }
      ],
      "source": [
        "vocab_size = 1000\n",
        "embedding_dim = 16\n",
        "max_length = 100\n",
        "trunc_type='post'\n",
        "padding_type='post'\n",
        "oov_tok = \"<OOV>\"\n",
        "\n",
        "\n",
        "from tensorflow.keras.preprocessing.text import Tokenizer\n",
        "from tensorflow.keras.preprocessing.sequence import pad_sequences\n",
        "\n",
        "tokenizer = Tokenizer(num_words = vocab_size, oov_token=oov_tok)\n",
        "tokenizer.fit_on_texts(training_sentences)\n",
        "word_index = tokenizer.word_index\n",
        "sequences = tokenizer.texts_to_sequences(training_sentences)\n",
        "\n",
        "padded = pad_sequences(sequences,maxlen=max_length, padding=padding_type, truncating=trunc_type)\n",
        "\n",
        "testing_sequences = tokenizer.texts_to_sequences(testing_sentences)\n",
        "testing_padded = pad_sequences(testing_sequences,maxlen=max_length,padding=padding_type, truncating=trunc_type)\n",
        "num=5\n",
        "for i in range(num):\n",
        "    print(f'Example {i+1}:\\n')\n",
        "    print('Original:',training_sentences[i])\n",
        "    print('Seq     :',sequences[i])\n",
        "    print('Padded  :',[x if x!=0 else '?' for x in padded[i]])\n",
        "    if i!=num-1:\n",
        "        print('##################################################')"
      ]
    },
    {
      "cell_type": "code",
      "execution_count": null,
      "metadata": {
        "id": "F21G3NpHrEoh"
      },
      "outputs": [],
      "source": [
        "reverse_word_index = dict([(value, key) for (key, value) in word_index.items()])\n",
        "\n",
        "def decode_review(text):\n",
        "    return ' '.join([reverse_word_index.get(i, '?') for i in text])"
      ]
    },
    {
      "cell_type": "code",
      "execution_count": null,
      "metadata": {
        "id": "1zDZJ4oorEoh",
        "outputId": "7aec2d2b-0829-4d63-cd6d-7fb6f3105603",
        "colab": {
          "base_uri": "https://localhost:8080/"
        }
      },
      "outputs": [
        {
          "output_type": "stream",
          "name": "stdout",
          "text": [
            "Model: \"sequential_2\"\n",
            "_________________________________________________________________\n",
            " Layer (type)                Output Shape              Param #   \n",
            "=================================================================\n",
            " embedding_2 (Embedding)     (None, 100, 16)           16000     \n",
            "                                                                 \n",
            " flatten_2 (Flatten)         (None, 1600)              0         \n",
            "                                                                 \n",
            " dense_4 (Dense)             (None, 6)                 9606      \n",
            "                                                                 \n",
            " dense_5 (Dense)             (None, 1)                 7         \n",
            "                                                                 \n",
            "=================================================================\n",
            "Total params: 25613 (100.05 KB)\n",
            "Trainable params: 25613 (100.05 KB)\n",
            "Non-trainable params: 0 (0.00 Byte)\n",
            "_________________________________________________________________\n"
          ]
        }
      ],
      "source": [
        "import tensorflow as tf\n",
        "# tf.keras.layers.Embedding(\n",
        "#     input_dim,\n",
        "#     output_dim,\n",
        "#     embeddings_initializer='uniform',\n",
        "#     embeddings_regularizer=None,\n",
        "#     activity_regularizer=None,\n",
        "#     embeddings_constraint=None,\n",
        "#     mask_zero=False,\n",
        "#     input_length=None,\n",
        "#     sparse=False,\n",
        "#     **kwargs\n",
        "# )\n",
        "from tensorflow.keras.layers import Embedding\n",
        "model = tf.keras.Sequential([\n",
        "    Embedding(vocab_size, embedding_dim, input_length=max_length),\n",
        "    tf.keras.layers.Flatten(),\n",
        "    tf.keras.layers.Dense(6, activation='relu'),\n",
        "    tf.keras.layers.Dense(1, activation='sigmoid')\n",
        "])\n",
        "model.compile(loss='binary_crossentropy',optimizer='adam',metrics=['accuracy'])\n",
        "model.summary()"
      ]
    },
    {
      "cell_type": "code",
      "execution_count": null,
      "metadata": {
        "id": "02OxVhpdrEok",
        "outputId": "1429a28c-7397-450c-cafb-71c2083a15fd",
        "colab": {
          "base_uri": "https://localhost:8080/"
        }
      },
      "outputs": [
        {
          "output_type": "stream",
          "name": "stdout",
          "text": [
            "Model: \"sequential_2\"\n",
            "_________________________________________________________________\n",
            " Layer (type)                Output Shape              Param #   \n",
            "=================================================================\n",
            " embedding_2 (Embedding)     (None, 100, 16)           16000     \n",
            "                                                                 \n",
            " flatten_2 (Flatten)         (None, 1600)              0         \n",
            "                                                                 \n",
            " dense_4 (Dense)             (None, 6)                 9606      \n",
            "                                                                 \n",
            " dense_5 (Dense)             (None, 1)                 7         \n",
            "                                                                 \n",
            "=================================================================\n",
            "Total params: 25613 (100.05 KB)\n",
            "Trainable params: 25613 (100.05 KB)\n",
            "Non-trainable params: 0 (0.00 Byte)\n",
            "_________________________________________________________________\n"
          ]
        }
      ],
      "source": [
        "from tensorflow.keras.losses import binary_crossentropy\n",
        "model.compile(loss='binary_crossentropy', optimizer='adam',metrics=['accuracy'])\n",
        "model.summary()"
      ]
    },
    {
      "cell_type": "code",
      "execution_count": null,
      "metadata": {
        "id": "o8SORzDMrEon",
        "outputId": "e52b1179-8b64-4a7b-836f-41cbec52751a",
        "colab": {
          "base_uri": "https://localhost:8080/"
        }
      },
      "outputs": [
        {
          "output_type": "stream",
          "name": "stdout",
          "text": [
            "Epoch 1/10\n",
            "50/50 [==============================] - 5s 72ms/step - loss: 0.6938 - accuracy: 0.4953 - val_loss: 0.6991 - val_accuracy: 0.4110\n",
            "Epoch 2/10\n",
            "50/50 [==============================] - 2s 36ms/step - loss: 0.6916 - accuracy: 0.5229 - val_loss: 0.7011 - val_accuracy: 0.4110\n",
            "Epoch 3/10\n",
            "50/50 [==============================] - 1s 23ms/step - loss: 0.6895 - accuracy: 0.5229 - val_loss: 0.6994 - val_accuracy: 0.4110\n",
            "Epoch 4/10\n",
            "50/50 [==============================] - 1s 18ms/step - loss: 0.6813 - accuracy: 0.5700 - val_loss: 0.6650 - val_accuracy: 0.7243\n",
            "Epoch 5/10\n",
            "50/50 [==============================] - 1s 14ms/step - loss: 0.6118 - accuracy: 0.8060 - val_loss: 0.6202 - val_accuracy: 0.6967\n",
            "Epoch 6/10\n",
            "50/50 [==============================] - 0s 5ms/step - loss: 0.4872 - accuracy: 0.8544 - val_loss: 0.5691 - val_accuracy: 0.7193\n",
            "Epoch 7/10\n",
            "50/50 [==============================] - 1s 11ms/step - loss: 0.3573 - accuracy: 0.9065 - val_loss: 0.5133 - val_accuracy: 0.7594\n",
            "Epoch 8/10\n",
            "50/50 [==============================] - 0s 8ms/step - loss: 0.2691 - accuracy: 0.9297 - val_loss: 0.4976 - val_accuracy: 0.7644\n",
            "Epoch 9/10\n",
            "50/50 [==============================] - 0s 8ms/step - loss: 0.2063 - accuracy: 0.9542 - val_loss: 0.4839 - val_accuracy: 0.7669\n",
            "Epoch 10/10\n",
            "50/50 [==============================] - 0s 6ms/step - loss: 0.1633 - accuracy: 0.9674 - val_loss: 0.4897 - val_accuracy: 0.7594\n"
          ]
        },
        {
          "output_type": "execute_result",
          "data": {
            "text/plain": [
              "<keras.src.callbacks.History at 0x79e4483f61a0>"
            ]
          },
          "metadata": {},
          "execution_count": 87
        }
      ],
      "source": [
        "num_epochs=10\n",
        "model.fit(padded,training_labels_np,epochs=num_epochs,validation_data=(testing_padded,testing_labels_np),validation_batch_size=20)"
      ]
    },
    {
      "cell_type": "code",
      "source": [
        "output=list(model.history.history.keys())"
      ],
      "metadata": {
        "id": "e5X1Jifq6DgK"
      },
      "execution_count": null,
      "outputs": []
    },
    {
      "cell_type": "code",
      "source": [
        "avg_output={}\n",
        "for key in output:\n",
        "  avg_output[key]=np.mean(model.history.history.get(key)[:])"
      ],
      "metadata": {
        "id": "6XlM285v76qD"
      },
      "execution_count": null,
      "outputs": []
    },
    {
      "cell_type": "code",
      "source": [
        "avg_output"
      ],
      "metadata": {
        "id": "naXtPpSc8Ni9",
        "outputId": "7d763c00-5700-4e67-b8b5-121ceff1b7e1",
        "colab": {
          "base_uri": "https://localhost:8080/"
        }
      },
      "execution_count": null,
      "outputs": [
        {
          "output_type": "execute_result",
          "data": {
            "text/plain": [
              "{'loss': 0.4851040780544281,\n",
              " 'accuracy': 0.7529190123081207,\n",
              " 'val_loss': 0.5938356161117554,\n",
              " 'val_accuracy': 0.6423558980226517}"
            ]
          },
          "metadata": {},
          "execution_count": 90
        }
      ]
    },
    {
      "cell_type": "code",
      "source": [
        "e=model.layers[0]\n",
        "weights=e.get_weights()[0]\n",
        "print(weights)"
      ],
      "metadata": {
        "id": "xvGw-PHp89RI",
        "outputId": "efc6efcc-392e-4c1a-c52f-db06cd571d7f",
        "colab": {
          "base_uri": "https://localhost:8080/"
        }
      },
      "execution_count": null,
      "outputs": [
        {
          "output_type": "stream",
          "name": "stdout",
          "text": [
            "[[ 0.03367389  0.03417534 -0.03537016 ...  0.0025322  -0.03173821\n",
            "  -0.06345926]\n",
            " [ 0.05987522 -0.09791356 -0.04487206 ...  0.00732887 -0.06698004\n",
            "   0.01127045]\n",
            " [-0.03638112 -0.08700375 -0.04004287 ...  0.04376299  0.02148033\n",
            "  -0.02756465]\n",
            " ...\n",
            " [-0.04947188 -0.18555486 -0.12010252 ... -0.12458803 -0.01111126\n",
            "   0.13225792]\n",
            " [ 0.11780852 -0.10734049 -0.11217313 ... -0.06300142  0.15938406\n",
            "   0.12943822]\n",
            " [ 0.07338461 -0.00648812 -0.00561951 ... -0.05595025 -0.08599064\n",
            "   0.09874658]]\n"
          ]
        }
      ]
    },
    {
      "cell_type": "code",
      "source": [
        "# write out the embedding vectors and metadata\n",
        "import io\n",
        "out_v=io.open('vecs.tsv','w',encoding='utf-8')\n",
        "out_m=io.open('meta.tsv','w',encoding='utf-8')\n",
        "for word_num in range(1,vocab_size):\n",
        "  word=reverse_word_index[word_num]\n",
        "  embedding=weights[word_num] # saving the weighs for each word\n",
        "  out_m.write(word+'\\n')\n",
        "  out_v.write('\\t'.join([str(x) for x in embedding])+'\\n')\n",
        "\n",
        "# # reverse_word_index[499]\n",
        "# weights[499]\n",
        "out_m.close()\n",
        "out_v.close()"
      ],
      "metadata": {
        "id": "0imcLGGV9Hgv"
      },
      "execution_count": null,
      "outputs": []
    },
    {
      "cell_type": "code",
      "source": [
        "# Download the files\n",
        "try:\n",
        "  from google.colab import files\n",
        "except ImportError:\n",
        "  pass\n",
        "else:\n",
        "  files.download('vecs.tsv')\n",
        "  files.download('meta.tsv')"
      ],
      "metadata": {
        "id": "qLyQr6m5_MUu",
        "outputId": "109356c9-ec88-412a-f6a3-b1f226e7bf00",
        "colab": {
          "base_uri": "https://localhost:8080/",
          "height": 17
        }
      },
      "execution_count": null,
      "outputs": [
        {
          "output_type": "display_data",
          "data": {
            "text/plain": [
              "<IPython.core.display.Javascript object>"
            ],
            "application/javascript": [
              "\n",
              "    async function download(id, filename, size) {\n",
              "      if (!google.colab.kernel.accessAllowed) {\n",
              "        return;\n",
              "      }\n",
              "      const div = document.createElement('div');\n",
              "      const label = document.createElement('label');\n",
              "      label.textContent = `Downloading \"${filename}\": `;\n",
              "      div.appendChild(label);\n",
              "      const progress = document.createElement('progress');\n",
              "      progress.max = size;\n",
              "      div.appendChild(progress);\n",
              "      document.body.appendChild(div);\n",
              "\n",
              "      const buffers = [];\n",
              "      let downloaded = 0;\n",
              "\n",
              "      const channel = await google.colab.kernel.comms.open(id);\n",
              "      // Send a message to notify the kernel that we're ready.\n",
              "      channel.send({})\n",
              "\n",
              "      for await (const message of channel.messages) {\n",
              "        // Send a message to notify the kernel that we're ready.\n",
              "        channel.send({})\n",
              "        if (message.buffers) {\n",
              "          for (const buffer of message.buffers) {\n",
              "            buffers.push(buffer);\n",
              "            downloaded += buffer.byteLength;\n",
              "            progress.value = downloaded;\n",
              "          }\n",
              "        }\n",
              "      }\n",
              "      const blob = new Blob(buffers, {type: 'application/binary'});\n",
              "      const a = document.createElement('a');\n",
              "      a.href = window.URL.createObjectURL(blob);\n",
              "      a.download = filename;\n",
              "      div.appendChild(a);\n",
              "      a.click();\n",
              "      div.remove();\n",
              "    }\n",
              "  "
            ]
          },
          "metadata": {}
        },
        {
          "output_type": "display_data",
          "data": {
            "text/plain": [
              "<IPython.core.display.Javascript object>"
            ],
            "application/javascript": [
              "download(\"download_01a6eb1f-2e74-4488-8bf9-b83e9d06f308\", \"vecs.tsv\", 189965)"
            ]
          },
          "metadata": {}
        },
        {
          "output_type": "display_data",
          "data": {
            "text/plain": [
              "<IPython.core.display.Javascript object>"
            ],
            "application/javascript": [
              "\n",
              "    async function download(id, filename, size) {\n",
              "      if (!google.colab.kernel.accessAllowed) {\n",
              "        return;\n",
              "      }\n",
              "      const div = document.createElement('div');\n",
              "      const label = document.createElement('label');\n",
              "      label.textContent = `Downloading \"${filename}\": `;\n",
              "      div.appendChild(label);\n",
              "      const progress = document.createElement('progress');\n",
              "      progress.max = size;\n",
              "      div.appendChild(progress);\n",
              "      document.body.appendChild(div);\n",
              "\n",
              "      const buffers = [];\n",
              "      let downloaded = 0;\n",
              "\n",
              "      const channel = await google.colab.kernel.comms.open(id);\n",
              "      // Send a message to notify the kernel that we're ready.\n",
              "      channel.send({})\n",
              "\n",
              "      for await (const message of channel.messages) {\n",
              "        // Send a message to notify the kernel that we're ready.\n",
              "        channel.send({})\n",
              "        if (message.buffers) {\n",
              "          for (const buffer of message.buffers) {\n",
              "            buffers.push(buffer);\n",
              "            downloaded += buffer.byteLength;\n",
              "            progress.value = downloaded;\n",
              "          }\n",
              "        }\n",
              "      }\n",
              "      const blob = new Blob(buffers, {type: 'application/binary'});\n",
              "      const a = document.createElement('a');\n",
              "      a.href = window.URL.createObjectURL(blob);\n",
              "      a.download = filename;\n",
              "      div.appendChild(a);\n",
              "      a.click();\n",
              "      div.remove();\n",
              "    }\n",
              "  "
            ]
          },
          "metadata": {}
        },
        {
          "output_type": "display_data",
          "data": {
            "text/plain": [
              "<IPython.core.display.Javascript object>"
            ],
            "application/javascript": [
              "download(\"download_3eaac50c-0d9e-4fe9-9822-7fe45ceebb0f\", \"meta.tsv\", 6617)"
            ]
          },
          "metadata": {}
        }
      ]
    },
    {
      "cell_type": "code",
      "source": [
        "# Use the model to predict a review\n",
        "fake_reviews = ['I love this phone', 'I hate spaghetti',\n",
        "                'Everything was cold',\n",
        "                'Everything was hot exactly as I wanted',\n",
        "                'Everything was green',\n",
        "                'the host seated us immediately',\n",
        "                'they gave us free chocolate cake',\n",
        "                'not sure about the wilted flowers on the table',\n",
        "                'only works when I stand on tippy toes',\n",
        "                'does not work when I stand on my head']\n",
        "\n",
        "print(fake_reviews)\n",
        "\n",
        "# Create the sequences\n",
        "padding_type='post'\n",
        "sample_sequences = tokenizer.texts_to_sequences(fake_reviews)\n",
        "fakes_padded = pad_sequences(sample_sequences, padding=padding_type, maxlen=max_length)\n",
        "\n",
        "print('\\nHOT OFF THE PRESS! HERE ARE SOME NEWLY MINTED, ABSOLUTELY GENUINE REVIEWS!\\n')\n",
        "\n",
        "classes = model.predict(fakes_padded)\n",
        "\n",
        "# The closer the class is to 1, the more positive the review is deemed to be\n",
        "for x in range(len(fake_reviews)):\n",
        "  print(fake_reviews[x])\n",
        "  print(classes[x])\n",
        "  print('\\n')\n",
        "\n",
        "# Try adding reviews of your own\n",
        "# Add some negative words (such as \"not\") to the good reviews and see what happens\n",
        "# For example:\n",
        "# they gave us free chocolate cake and did not charge us"
      ],
      "metadata": {
        "id": "G9gj73OLBMul",
        "outputId": "53cd8a15-0c35-4a3d-b12e-5dc673b153fe",
        "colab": {
          "base_uri": "https://localhost:8080/"
        }
      },
      "execution_count": null,
      "outputs": [
        {
          "output_type": "stream",
          "name": "stdout",
          "text": [
            "['I love this phone', 'I hate spaghetti', 'Everything was cold', 'Everything was hot exactly as I wanted', 'Everything was green', 'the host seated us immediately', 'they gave us free chocolate cake', 'not sure about the wilted flowers on the table', 'only works when I stand on tippy toes', 'does not work when I stand on my head']\n",
            "\n",
            "HOT OFF THE PRESS! HERE ARE SOME NEWLY MINTED, ABSOLUTELY GENUINE REVIEWS!\n",
            "\n",
            "1/1 [==============================] - 0s 73ms/step\n",
            "I love this phone\n",
            "[0.98756325]\n",
            "\n",
            "\n",
            "I hate spaghetti\n",
            "[0.09426564]\n",
            "\n",
            "\n",
            "Everything was cold\n",
            "[0.397597]\n",
            "\n",
            "\n",
            "Everything was hot exactly as I wanted\n",
            "[0.609927]\n",
            "\n",
            "\n",
            "Everything was green\n",
            "[0.572009]\n",
            "\n",
            "\n",
            "the host seated us immediately\n",
            "[0.72292864]\n",
            "\n",
            "\n",
            "they gave us free chocolate cake\n",
            "[0.9088939]\n",
            "\n",
            "\n",
            "not sure about the wilted flowers on the table\n",
            "[0.03849566]\n",
            "\n",
            "\n",
            "only works when I stand on tippy toes\n",
            "[0.8926135]\n",
            "\n",
            "\n",
            "does not work when I stand on my head\n",
            "[0.00336158]\n",
            "\n",
            "\n"
          ]
        }
      ]
    },
    {
      "cell_type": "markdown",
      "source": [
        "# **`Lets Tweeking The Model`**\n",
        "✈\n"
      ],
      "metadata": {
        "id": "J2VNXiOIB6Do"
      }
    },
    {
      "cell_type": "code",
      "source": [
        "vocab_size = 500\n",
        "embedding_dim = 16\n",
        "max_length = 50\n",
        "trunc_type='post'\n",
        "padding_type='post'\n",
        "oov_tok = \"<OOV>\"\n",
        "\n",
        "tokenizer = Tokenizer(num_words = vocab_size, oov_token=oov_tok)\n",
        "tokenizer.fit_on_texts(training_sentences)\n",
        "word_index = tokenizer.word_index\n",
        "training_sequences = tokenizer.texts_to_sequences(training_sentences)\n",
        "training_padded = pad_sequences(training_sequences, maxlen=max_length, padding=padding_type, truncating=trunc_type)\n",
        "\n",
        "testing_sequences = tokenizer.texts_to_sequences(testing_sentences)\n",
        "testing_padded = pad_sequences(testing_sequences, maxlen=max_length, padding=padding_type, truncating=trunc_type)"
      ],
      "metadata": {
        "id": "mGVOm_EhBNds"
      },
      "execution_count": null,
      "outputs": []
    },
    {
      "cell_type": "code",
      "source": [
        "model = tf.keras.Sequential([\n",
        "    tf.keras.layers.Embedding(vocab_size, embedding_dim, input_length=max_length),\n",
        "    tf.keras.layers.GlobalAveragePooling1D(),\n",
        "    tf.keras.layers.Dense(6, activation='relu'),\n",
        "    tf.keras.layers.Dense(1, activation='sigmoid')\n",
        "])\n",
        "model.compile(loss='binary_crossentropy',optimizer='adam',metrics=['accuracy'])\n",
        "model.summary()"
      ],
      "metadata": {
        "id": "kYSFhI1DCmX1",
        "outputId": "37e35d00-27f3-4ec1-a101-aa00e5a8701f",
        "colab": {
          "base_uri": "https://localhost:8080/"
        }
      },
      "execution_count": null,
      "outputs": [
        {
          "output_type": "stream",
          "name": "stdout",
          "text": [
            "Model: \"sequential_3\"\n",
            "_________________________________________________________________\n",
            " Layer (type)                Output Shape              Param #   \n",
            "=================================================================\n",
            " embedding_3 (Embedding)     (None, 50, 16)            8000      \n",
            "                                                                 \n",
            " global_average_pooling1d (  (None, 16)                0         \n",
            " GlobalAveragePooling1D)                                         \n",
            "                                                                 \n",
            " dense_6 (Dense)             (None, 6)                 102       \n",
            "                                                                 \n",
            " dense_7 (Dense)             (None, 1)                 7         \n",
            "                                                                 \n",
            "=================================================================\n",
            "Total params: 8109 (31.68 KB)\n",
            "Trainable params: 8109 (31.68 KB)\n",
            "Non-trainable params: 0 (0.00 Byte)\n",
            "_________________________________________________________________\n"
          ]
        }
      ]
    },
    {
      "cell_type": "code",
      "source": [
        "num_epochs = 30\n",
        "history = model.fit(training_padded, training_labels_np, epochs=num_epochs, validation_data=(testing_padded, testing_labels_np))"
      ],
      "metadata": {
        "id": "thVSbjYLCnDE",
        "outputId": "b195cea4-4d97-4b71-95ff-e76b568fbbe1",
        "colab": {
          "base_uri": "https://localhost:8080/"
        }
      },
      "execution_count": null,
      "outputs": [
        {
          "output_type": "stream",
          "name": "stdout",
          "text": [
            "Epoch 1/30\n",
            "50/50 [==============================] - 7s 129ms/step - loss: 0.6921 - accuracy: 0.5217 - val_loss: 0.6988 - val_accuracy: 0.4110\n",
            "Epoch 2/30\n",
            "50/50 [==============================] - 2s 37ms/step - loss: 0.6898 - accuracy: 0.5223 - val_loss: 0.7002 - val_accuracy: 0.4110\n",
            "Epoch 3/30\n",
            "50/50 [==============================] - 1s 26ms/step - loss: 0.6872 - accuracy: 0.5223 - val_loss: 0.6996 - val_accuracy: 0.4110\n",
            "Epoch 4/30\n",
            "50/50 [==============================] - 1s 20ms/step - loss: 0.6820 - accuracy: 0.5223 - val_loss: 0.6987 - val_accuracy: 0.4110\n",
            "Epoch 5/30\n",
            "50/50 [==============================] - 1s 20ms/step - loss: 0.6742 - accuracy: 0.5487 - val_loss: 0.6884 - val_accuracy: 0.4812\n",
            "Epoch 6/30\n",
            "50/50 [==============================] - 1s 11ms/step - loss: 0.6643 - accuracy: 0.5807 - val_loss: 0.6848 - val_accuracy: 0.4887\n",
            "Epoch 7/30\n",
            "50/50 [==============================] - 0s 4ms/step - loss: 0.6508 - accuracy: 0.5957 - val_loss: 0.6750 - val_accuracy: 0.5338\n",
            "Epoch 8/30\n",
            "50/50 [==============================] - 0s 7ms/step - loss: 0.6344 - accuracy: 0.6497 - val_loss: 0.6728 - val_accuracy: 0.5088\n",
            "Epoch 9/30\n",
            "50/50 [==============================] - 1s 13ms/step - loss: 0.6159 - accuracy: 0.6704 - val_loss: 0.6526 - val_accuracy: 0.6040\n",
            "Epoch 10/30\n",
            "50/50 [==============================] - 0s 5ms/step - loss: 0.5954 - accuracy: 0.7150 - val_loss: 0.6602 - val_accuracy: 0.5188\n",
            "Epoch 11/30\n",
            "50/50 [==============================] - 1s 10ms/step - loss: 0.5746 - accuracy: 0.7370 - val_loss: 0.6328 - val_accuracy: 0.6341\n",
            "Epoch 12/30\n",
            "50/50 [==============================] - 0s 7ms/step - loss: 0.5550 - accuracy: 0.7621 - val_loss: 0.6245 - val_accuracy: 0.6391\n",
            "Epoch 13/30\n",
            "50/50 [==============================] - 0s 7ms/step - loss: 0.5337 - accuracy: 0.7897 - val_loss: 0.6165 - val_accuracy: 0.6491\n",
            "Epoch 14/30\n",
            "50/50 [==============================] - 0s 7ms/step - loss: 0.5146 - accuracy: 0.7947 - val_loss: 0.5948 - val_accuracy: 0.7093\n",
            "Epoch 15/30\n",
            "50/50 [==============================] - 1s 11ms/step - loss: 0.4956 - accuracy: 0.8230 - val_loss: 0.5934 - val_accuracy: 0.6892\n",
            "Epoch 16/30\n",
            "50/50 [==============================] - 0s 8ms/step - loss: 0.4801 - accuracy: 0.8343 - val_loss: 0.6028 - val_accuracy: 0.6516\n",
            "Epoch 17/30\n",
            "50/50 [==============================] - 0s 5ms/step - loss: 0.4595 - accuracy: 0.8475 - val_loss: 0.5902 - val_accuracy: 0.6642\n",
            "Epoch 18/30\n",
            "50/50 [==============================] - 0s 4ms/step - loss: 0.4457 - accuracy: 0.8418 - val_loss: 0.5562 - val_accuracy: 0.7393\n",
            "Epoch 19/30\n",
            "50/50 [==============================] - 0s 5ms/step - loss: 0.4309 - accuracy: 0.8638 - val_loss: 0.5780 - val_accuracy: 0.6792\n",
            "Epoch 20/30\n",
            "50/50 [==============================] - 0s 5ms/step - loss: 0.4154 - accuracy: 0.8688 - val_loss: 0.5767 - val_accuracy: 0.6767\n",
            "Epoch 21/30\n",
            "50/50 [==============================] - 1s 11ms/step - loss: 0.4028 - accuracy: 0.8763 - val_loss: 0.5448 - val_accuracy: 0.7343\n",
            "Epoch 22/30\n",
            "50/50 [==============================] - 0s 8ms/step - loss: 0.3909 - accuracy: 0.8776 - val_loss: 0.5339 - val_accuracy: 0.7444\n",
            "Epoch 23/30\n",
            "50/50 [==============================] - 0s 7ms/step - loss: 0.3786 - accuracy: 0.8876 - val_loss: 0.5379 - val_accuracy: 0.7318\n",
            "Epoch 24/30\n",
            "50/50 [==============================] - 0s 4ms/step - loss: 0.3674 - accuracy: 0.8889 - val_loss: 0.5376 - val_accuracy: 0.7268\n",
            "Epoch 25/30\n",
            "50/50 [==============================] - 0s 8ms/step - loss: 0.3572 - accuracy: 0.8964 - val_loss: 0.5361 - val_accuracy: 0.7218\n",
            "Epoch 26/30\n",
            "50/50 [==============================] - 0s 4ms/step - loss: 0.3477 - accuracy: 0.9008 - val_loss: 0.5231 - val_accuracy: 0.7368\n",
            "Epoch 27/30\n",
            "50/50 [==============================] - 0s 4ms/step - loss: 0.3391 - accuracy: 0.9046 - val_loss: 0.5029 - val_accuracy: 0.7794\n",
            "Epoch 28/30\n",
            "50/50 [==============================] - 0s 8ms/step - loss: 0.3316 - accuracy: 0.9077 - val_loss: 0.5567 - val_accuracy: 0.7018\n",
            "Epoch 29/30\n",
            "50/50 [==============================] - 0s 5ms/step - loss: 0.3214 - accuracy: 0.9127 - val_loss: 0.5607 - val_accuracy: 0.6992\n",
            "Epoch 30/30\n",
            "50/50 [==============================] - 0s 4ms/step - loss: 0.3162 - accuracy: 0.9121 - val_loss: 0.5119 - val_accuracy: 0.7594\n"
          ]
        }
      ]
    },
    {
      "cell_type": "code",
      "source": [
        "import matplotlib.pyplot as plt\n",
        "\n",
        "\n",
        "def plot_graphs(history, string):\n",
        "  plt.plot(history.history[string])\n",
        "  plt.plot(history.history['val_'+string])\n",
        "  plt.xlabel(\"Epochs\")\n",
        "  plt.ylabel(string)\n",
        "  plt.legend([string, 'val_'+string])\n",
        "  plt.show()\n",
        "\n",
        "plot_graphs(history, \"accuracy\")\n",
        "plot_graphs(history, \"loss\")"
      ],
      "metadata": {
        "id": "h8xjjcXuCuua",
        "outputId": "7bbddb93-8950-47a3-fd0f-344514b938e5",
        "colab": {
          "base_uri": "https://localhost:8080/",
          "height": 881
        }
      },
      "execution_count": null,
      "outputs": [
        {
          "output_type": "display_data",
          "data": {
            "text/plain": [
              "<Figure size 640x480 with 1 Axes>"
            ],
            "image/png": "[encoded data removed]"
          },
          "metadata": {}
        },
        {
          "output_type": "display_data",
          "data": {
            "text/plain": [
              "<Figure size 640x480 with 1 Axes>"
            ],
            "image/png": "[encoded data removed]"
          },
          "metadata": {}
        }
      ]
    },
    {
      "cell_type": "code",
      "source": [
        "# First get the weights of the embedding layer\n",
        "e = model.layers[0]\n",
        "weights = e.get_weights()[0]\n",
        "print(weights.shape) # shape: (vocab_size, embedding_dim)"
      ],
      "metadata": {
        "id": "eDRXR_AcCujz",
        "outputId": "9405371e-8e11-402d-d1c3-9af04fc59f1a",
        "colab": {
          "base_uri": "https://localhost:8080/"
        }
      },
      "execution_count": null,
      "outputs": [
        {
          "output_type": "stream",
          "name": "stdout",
          "text": [
            "(500, 16)\n"
          ]
        }
      ]
    },
    {
      "cell_type": "code",
      "source": [
        "import io\n",
        "\n",
        "# Create the reverse word index\n",
        "reverse_word_index = dict([(value, key) for (key, value) in word_index.items()])\n",
        "\n",
        "# Write out the embedding vectors and metadata\n",
        "out_v = io.open('vecs.tsv', 'w', encoding='utf-8')\n",
        "out_m = io.open('meta.tsv', 'w', encoding='utf-8')\n",
        "for word_num in range(1, vocab_size):\n",
        "  word = reverse_word_index[word_num]\n",
        "  embeddings = weights[word_num]\n",
        "  out_m.write(word + \"\\n\")\n",
        "  out_v.write('\\t'.join([str(x) for x in embeddings]) + \"\\n\")\n",
        "out_v.close()\n",
        "out_m.close()"
      ],
      "metadata": {
        "id": "qwCdw1jLCyNq"
      },
      "execution_count": null,
      "outputs": []
    },
    {
      "cell_type": "code",
      "source": [
        "# Download the files\n",
        "try:\n",
        "  from google.colab import files\n",
        "except ImportError:\n",
        "  pass\n",
        "else:\n",
        "  files.download('vecs.tsv')\n",
        "  files.download('meta.tsv')"
      ],
      "metadata": {
        "id": "AT-kmDfdCyFS",
        "outputId": "c758da4a-0dd8-4f00-eb8b-b0e090584af9",
        "colab": {
          "base_uri": "https://localhost:8080/",
          "height": 17
        }
      },
      "execution_count": null,
      "outputs": [
        {
          "output_type": "display_data",
          "data": {
            "text/plain": [
              "<IPython.core.display.Javascript object>"
            ],
            "application/javascript": [
              "\n",
              "    async function download(id, filename, size) {\n",
              "      if (!google.colab.kernel.accessAllowed) {\n",
              "        return;\n",
              "      }\n",
              "      const div = document.createElement('div');\n",
              "      const label = document.createElement('label');\n",
              "      label.textContent = `Downloading \"${filename}\": `;\n",
              "      div.appendChild(label);\n",
              "      const progress = document.createElement('progress');\n",
              "      progress.max = size;\n",
              "      div.appendChild(progress);\n",
              "      document.body.appendChild(div);\n",
              "\n",
              "      const buffers = [];\n",
              "      let downloaded = 0;\n",
              "\n",
              "      const channel = await google.colab.kernel.comms.open(id);\n",
              "      // Send a message to notify the kernel that we're ready.\n",
              "      channel.send({})\n",
              "\n",
              "      for await (const message of channel.messages) {\n",
              "        // Send a message to notify the kernel that we're ready.\n",
              "        channel.send({})\n",
              "        if (message.buffers) {\n",
              "          for (const buffer of message.buffers) {\n",
              "            buffers.push(buffer);\n",
              "            downloaded += buffer.byteLength;\n",
              "            progress.value = downloaded;\n",
              "          }\n",
              "        }\n",
              "      }\n",
              "      const blob = new Blob(buffers, {type: 'application/binary'});\n",
              "      const a = document.createElement('a');\n",
              "      a.href = window.URL.createObjectURL(blob);\n",
              "      a.download = filename;\n",
              "      div.appendChild(a);\n",
              "      a.click();\n",
              "      div.remove();\n",
              "    }\n",
              "  "
            ]
          },
          "metadata": {}
        },
        {
          "output_type": "display_data",
          "data": {
            "text/plain": [
              "<IPython.core.display.Javascript object>"
            ],
            "application/javascript": [
              "download(\"download_794a6aa8-8211-4cb4-911b-24f785b015bb\", \"vecs.tsv\", 91786)"
            ]
          },
          "metadata": {}
        },
        {
          "output_type": "display_data",
          "data": {
            "text/plain": [
              "<IPython.core.display.Javascript object>"
            ],
            "application/javascript": [
              "\n",
              "    async function download(id, filename, size) {\n",
              "      if (!google.colab.kernel.accessAllowed) {\n",
              "        return;\n",
              "      }\n",
              "      const div = document.createElement('div');\n",
              "      const label = document.createElement('label');\n",
              "      label.textContent = `Downloading \"${filename}\": `;\n",
              "      div.appendChild(label);\n",
              "      const progress = document.createElement('progress');\n",
              "      progress.max = size;\n",
              "      div.appendChild(progress);\n",
              "      document.body.appendChild(div);\n",
              "\n",
              "      const buffers = [];\n",
              "      let downloaded = 0;\n",
              "\n",
              "      const channel = await google.colab.kernel.comms.open(id);\n",
              "      // Send a message to notify the kernel that we're ready.\n",
              "      channel.send({})\n",
              "\n",
              "      for await (const message of channel.messages) {\n",
              "        // Send a message to notify the kernel that we're ready.\n",
              "        channel.send({})\n",
              "        if (message.buffers) {\n",
              "          for (const buffer of message.buffers) {\n",
              "            buffers.push(buffer);\n",
              "            downloaded += buffer.byteLength;\n",
              "            progress.value = downloaded;\n",
              "          }\n",
              "        }\n",
              "      }\n",
              "      const blob = new Blob(buffers, {type: 'application/binary'});\n",
              "      const a = document.createElement('a');\n",
              "      a.href = window.URL.createObjectURL(blob);\n",
              "      a.download = filename;\n",
              "      div.appendChild(a);\n",
              "      a.click();\n",
              "      div.remove();\n",
              "    }\n",
              "  "
            ]
          },
          "metadata": {}
        },
        {
          "output_type": "display_data",
          "data": {
            "text/plain": [
              "<IPython.core.display.Javascript object>"
            ],
            "application/javascript": [
              "download(\"download_789fd840-2c44-4923-89ce-41393462ac09\", \"meta.tsv\", 3025)"
            ]
          },
          "metadata": {}
        }
      ]
    },
    {
      "cell_type": "code",
      "source": [
        "# Use the model to predict a review\n",
        "fake_reviews = ['I love this phone', 'I hate spaghetti',\n",
        "                'Everything was cold',\n",
        "                'Everything was hot exactly as I wanted',\n",
        "                'Everything was green',\n",
        "                'the host seated us immediately',\n",
        "                'they gave us free chocolate cake',\n",
        "                'not sure about the wilted flowers on the table',\n",
        "                'only works when I stand on tippy toes',\n",
        "                'does not work when I stand on my head']\n",
        "\n",
        "print(fake_reviews)\n",
        "\n",
        "# Create the sequences\n",
        "padding_type='post'\n",
        "sample_sequences = tokenizer.texts_to_sequences(fake_reviews)\n",
        "fakes_padded = pad_sequences(sample_sequences, padding=padding_type, maxlen=max_length)\n",
        "\n",
        "print('\\nHOT OFF THE PRESS! HERE ARE SOME NEWLY MINTED, ABSOLUTELY GENUINE REVIEWS!\\n')\n",
        "\n",
        "classes = model.predict(fakes_padded)\n",
        "\n",
        "# The closer the class is to 1, the more positive the review is deemed to be\n",
        "for x in range(len(fake_reviews)):\n",
        "  print(fake_reviews[x])\n",
        "  print(classes[x])\n",
        "  print('\\n')\n",
        "\n",
        "# Try adding reviews of your own\n",
        "# Add some negative words (such as \"not\") to the good reviews and see what happens\n",
        "# For example:\n",
        "# they gave us free chocolate cake and did not charge us"
      ],
      "metadata": {
        "id": "y2ZkmimCC3jz",
        "outputId": "e8231269-51e0-47b6-d6ef-b963d42a68ea",
        "colab": {
          "base_uri": "https://localhost:8080/"
        }
      },
      "execution_count": null,
      "outputs": [
        {
          "output_type": "stream",
          "name": "stdout",
          "text": [
            "['I love this phone', 'I hate spaghetti', 'Everything was cold', 'Everything was hot exactly as I wanted', 'Everything was green', 'the host seated us immediately', 'they gave us free chocolate cake', 'not sure about the wilted flowers on the table', 'only works when I stand on tippy toes', 'does not work when I stand on my head']\n",
            "\n",
            "HOT OFF THE PRESS! HERE ARE SOME NEWLY MINTED, ABSOLUTELY GENUINE REVIEWS!\n",
            "\n",
            "1/1 [==============================] - 0s 51ms/step\n",
            "I love this phone\n",
            "[0.94054943]\n",
            "\n",
            "\n",
            "I hate spaghetti\n",
            "[0.27959904]\n",
            "\n",
            "\n",
            "Everything was cold\n",
            "[0.5673119]\n",
            "\n",
            "\n",
            "Everything was hot exactly as I wanted\n",
            "[0.32277855]\n",
            "\n",
            "\n",
            "Everything was green\n",
            "[0.5673119]\n",
            "\n",
            "\n",
            "the host seated us immediately\n",
            "[0.6000507]\n",
            "\n",
            "\n",
            "they gave us free chocolate cake\n",
            "[0.8687534]\n",
            "\n",
            "\n",
            "not sure about the wilted flowers on the table\n",
            "[0.27959904]\n",
            "\n",
            "\n",
            "only works when I stand on tippy toes\n",
            "[0.9105394]\n",
            "\n",
            "\n",
            "does not work when I stand on my head\n",
            "[0.27959904]\n",
            "\n",
            "\n"
          ]
        }
      ]
    },
    {
      "cell_type": "code",
      "source": [],
      "metadata": {
        "id": "JiX1zJkmC5xD"
      },
      "execution_count": null,
      "outputs": []
    }
  ],
  "metadata": {
    "kernelspec": {
      "display_name": "Python 3",
      "name": "python3"
    },
    "language_info": {
      "codemirror_mode": {
        "name": "ipython",
        "version": 3
      },
      "file_extension": ".py",
      "mimetype": "text/x-python",
      "name": "python",
      "nbconvert_exporter": "python",
      "pygments_lexer": "ipython3",
      "version": "3.12.2"
    },
    "colab": {
      "provenance": [],
      "gpuType": "T4",
      "include_colab_link": true
    },
    "accelerator": "GPU"
  },
  "nbformat": 4,
  "nbformat_minor": 0
}